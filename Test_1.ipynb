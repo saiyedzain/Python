{
 "cells": [
  {
   "cell_type": "code",
   "execution_count": 5,
   "id": "20eabb43",
   "metadata": {},
   "outputs": [
    {
     "name": "stdout",
     "output_type": "stream",
     "text": [
      "5,2,C,D,+\n",
      "30\n"
     ]
    }
   ],
   "source": [
    "l=input().split(',')\n",
    "score= []\n",
    "for i in l:\n",
    "    if (i==\"+\"):\n",
    "        score.append(score[-1]+score[-2])\n",
    "    elif (i.isalpha()==False):\n",
    "        score.append(int(i))\n",
    "    elif (i==\"D\"):\n",
    "        score.append(score[-1]*2)\n",
    "    elif (i==\"C\"):\n",
    "        score.remove(score[-1])\n",
    "print(sum(score))"
   ]
  },
  {
   "cell_type": "code",
   "execution_count": null,
   "id": "e492524f",
   "metadata": {},
   "outputs": [],
   "source": []
  },
  {
   "cell_type": "code",
   "execution_count": null,
   "id": "f077e93e",
   "metadata": {},
   "outputs": [],
   "source": []
  }
 ],
 "metadata": {
  "kernelspec": {
   "display_name": "Python 3 (ipykernel)",
   "language": "python",
   "name": "python3"
  },
  "language_info": {
   "codemirror_mode": {
    "name": "ipython",
    "version": 3
   },
   "file_extension": ".py",
   "mimetype": "text/x-python",
   "name": "python",
   "nbconvert_exporter": "python",
   "pygments_lexer": "ipython3",
   "version": "3.9.13"
  },
  "vp": {
   "vp_config_version": "1.0.0",
   "vp_menu_width": 273,
   "vp_note_display": false,
   "vp_note_width": 0,
   "vp_position": {
    "width": 278
   },
   "vp_section_display": false,
   "vp_signature": "VisualPython"
  }
 },
 "nbformat": 4,
 "nbformat_minor": 5
}
